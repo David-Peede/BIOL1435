{
 "cells": [
  {
   "cell_type": "markdown",
   "id": "26d65a2e",
   "metadata": {},
   "source": [
    "# Problem Set 2\n",
    "\n",
    "For this problem set we will validate the tree attributes we went over in class and practice manipulating tree-sequences.\n",
    "\n",
    "__ASSIGNMENT__\n",
    "- There are three problems each with multiple components.\n",
    "- For partial credit please annotate your code (ie un-annotated code will not receive partial credit).\n",
    "- The following python modules are required to complete this problem set, however, you can use other modules at your own risk.\n",
    "- Do not alter the simulation code for problem three.\n",
    "- You may not work with other students, but you may ask the instructor questions by email or by coming to office hours, reference package documentation, reference coding exercises from previous lectures, and refernce the course GitHub.\n",
    "\n",
    "__HELPFUL HINTS__\n",
    "- [`msprime` documentation](https://tskit.dev/msprime/docs/stable/intro.html)\n",
    "- [`tskit` documentation](https://tskit.dev/tskit/docs/stable/introduction.html)\n",
    "- Feel free to add more cells if needed!\n",
    "- Take a deep breathe, and remember that you are very capable!"
   ]
  },
  {
   "cell_type": "code",
   "execution_count": null,
   "id": "fd7689ae",
   "metadata": {},
   "outputs": [],
   "source": [
    "# Import modules.\n",
    "from matplotlib import pyplot as plt\n",
    "import msprime\n",
    "import numpy as np\n",
    "import pandas as pd"
   ]
  },
  {
   "cell_type": "markdown",
   "id": "784980c3",
   "metadata": {},
   "source": [
    "## $\\mathbb{E}[T_{MRCA}]$\n",
    "__(1)__ Validate the expected time to most recent common ancestor as a function of $n$ haploid samples—ie $\\mathbb{E} \\left(T_{MRCA} \\right) = \\sum_{i=2}^{n} \\mathbb{E} \\left(T_{i} \\right)$ where $\\mathbb{E} \\left(T_{i} \\right) = \\frac{N}{\\binom{i}{2}}$. Make a plot and table to compare the analytical results versus the mean of 1,000 replicate simulations and provide some interpretation of what your plot and table show."
   ]
  },
  {
   "cell_type": "code",
   "execution_count": null,
   "id": "3d9f1304",
   "metadata": {},
   "outputs": [],
   "source": []
  },
  {
   "cell_type": "code",
   "execution_count": null,
   "id": "ffc45e19",
   "metadata": {},
   "outputs": [],
   "source": []
  },
  {
   "cell_type": "code",
   "execution_count": null,
   "id": "c15710e0",
   "metadata": {},
   "outputs": [],
   "source": []
  },
  {
   "cell_type": "code",
   "execution_count": null,
   "id": "710c9ee2",
   "metadata": {},
   "outputs": [],
   "source": []
  },
  {
   "cell_type": "code",
   "execution_count": null,
   "id": "68e2c963",
   "metadata": {},
   "outputs": [],
   "source": []
  },
  {
   "cell_type": "markdown",
   "id": "87044532",
   "metadata": {},
   "source": [
    "## $\\mathbb{E}[T_{tot}]$\n",
    "__(2)__ Validate the total tree height as a function of $n$ haploid samples—ie $\\mathbb{E} \\left(T_{tot} \\right) = \\sum_{i=2}^{n} i \\times \\mathbb{E} \\left(T_{i} \\right)$ where $\\mathbb{E} \\left(T_{i} \\right) = \\frac{N}{\\binom{i}{2}}$. Make a plot and table to compare the analytical results versus the mean of 1,000 replicate simulations and provide some interpretation of what your plot and table show."
   ]
  },
  {
   "cell_type": "code",
   "execution_count": null,
   "id": "7d88e06d",
   "metadata": {},
   "outputs": [],
   "source": []
  },
  {
   "cell_type": "code",
   "execution_count": null,
   "id": "40e38fcd",
   "metadata": {},
   "outputs": [],
   "source": []
  },
  {
   "cell_type": "code",
   "execution_count": null,
   "id": "2423d27b",
   "metadata": {},
   "outputs": [],
   "source": []
  },
  {
   "cell_type": "code",
   "execution_count": null,
   "id": "ffd7e264",
   "metadata": {},
   "outputs": [],
   "source": []
  },
  {
   "cell_type": "code",
   "execution_count": null,
   "id": "2a7fd33c",
   "metadata": {},
   "outputs": [],
   "source": []
  },
  {
   "cell_type": "markdown",
   "id": "6d16a4a5",
   "metadata": {},
   "source": [
    "## Tree-Sequences\n",
    "__(3)__ Run the simulation in the cell below and then report the following information by accessing the tree-sequence—ie you can't just visualize the tree-sequence:\n",
    "\n",
    "- The number of trees in the tree-sequence.\n",
    "- The positions of the recombination break points.\n",
    "- The branching order of the leaves—aka topology—for each tree.\n",
    "- The time of the first coalescent event for each tree.\n",
    "- The time of the most recent common ancestor among all samples for each tree.\n",
    "- The total tree height for each tree."
   ]
  },
  {
   "cell_type": "code",
   "execution_count": null,
   "id": "d38be2bf",
   "metadata": {},
   "outputs": [],
   "source": [
    "# Run this cell WITHOUT altering the simulation.\n",
    "ts = msprime.sim_ancestry(\n",
    "    samples=3,\n",
    "    population_size=1e6,\n",
    "    ploidy=1,\n",
    "    sequence_length=1_000,\n",
    "    recombination_rate=1e-9,\n",
    "    random_seed=42,\n",
    "    \n",
    ")"
   ]
  },
  {
   "cell_type": "code",
   "execution_count": null,
   "id": "b229c20d",
   "metadata": {},
   "outputs": [],
   "source": []
  }
 ],
 "metadata": {
  "kernelspec": {
   "display_name": "Python 3 (ipykernel)",
   "language": "python",
   "name": "python3"
  },
  "language_info": {
   "codemirror_mode": {
    "name": "ipython",
    "version": 3
   },
   "file_extension": ".py",
   "mimetype": "text/x-python",
   "name": "python",
   "nbconvert_exporter": "python",
   "pygments_lexer": "ipython3",
   "version": "3.9.15"
  }
 },
 "nbformat": 4,
 "nbformat_minor": 5
}
