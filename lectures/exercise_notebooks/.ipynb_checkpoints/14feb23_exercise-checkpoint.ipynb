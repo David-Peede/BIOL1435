{
 "cells": [
  {
   "cell_type": "markdown",
   "id": "66811198",
   "metadata": {},
   "source": [
    "# 14FEB23 In Class Exercise\n",
    "Module: Introduction to Coalescent Theory & Tree-Thinking \\\n",
    "Topic: A hands on introduction to coalescent simulations using `msprime` and `tskit`.\\\n",
    "\n",
    "When in doubt read the docs!\n",
    "- [`msprime`](https://tskit.dev/msprime/docs/stable/intro.html)\n",
    "- [`tskit`](https://tskit.dev/tskit/docs/stable/introduction.html)"
   ]
  },
  {
   "cell_type": "code",
   "execution_count": null,
   "id": "9fe6a857",
   "metadata": {},
   "outputs": [],
   "source": [
    "# Import modules.\n",
    "import demes\n",
    "import demesdraw\n",
    "from IPython.display import display, SVG\n",
    "from matplotlib import pyplot as plt\n",
    "import msprime\n",
    "import numpy as np\n",
    "import pandas as pd\n",
    "# Print versions.\n",
    "print('demes', demes.__version__)\n",
    "print('demesdraw', demesdraw.__version__)\n",
    "print('msprime', msprime.__version__)\n",
    "print('numpy', np.__version__)"
   ]
  },
  {
   "cell_type": "markdown",
   "id": "8afad9ca",
   "metadata": {},
   "source": [
    "## Coalescent Simulations with `msprime`\n",
    "The package [`msprime`](https://tskit.dev/msprime/docs/stable/intro.html) has three main functionalities that we will utilize in this class. The first being ancestry simulations, the second being mutation simulations, and the last being demographic objects. Let's walk through them all now and then use them to recreate some results from lectures.\n",
    "\n",
    "### Ancestry Simulations\n",
    "Although this is the most basic kind of simulation, it will be extremely helpful for validating theoretical results. Let's run an ancestry simulation below."
   ]
  },
  {
   "cell_type": "code",
   "execution_count": null,
   "id": "1ba00caa",
   "metadata": {},
   "outputs": [],
   "source": [
    "# Perform an ancestry simulation for three samples with an effective population size of 1e6.\n",
    "ts = msprime.sim_ancestry(\n",
    "    samples=3,\n",
    "    population_size=1e6,\n",
    "    ploidy=1, # Simulate haploids.\n",
    "    random_seed=42,\n",
    ")\n",
    "# Show the tree-sequence.\n",
    "ts"
   ]
  },
  {
   "cell_type": "markdown",
   "id": "be27bef1",
   "metadata": {},
   "source": [
    "The code above simulates a treesequence for three monoploid samples that originate from a population with an effective population size of one million. Take a look over the summary output. What makes sense? What doesn't? Perhaps it would be helpful to view the tree."
   ]
  },
  {
   "cell_type": "code",
   "execution_count": null,
   "id": "38abd266",
   "metadata": {
    "scrolled": true
   },
   "outputs": [],
   "source": [
    "# Print the tree as a text output.\n",
    "print(ts.draw_text())"
   ]
  },
  {
   "cell_type": "code",
   "execution_count": null,
   "id": "9552c6c7",
   "metadata": {},
   "outputs": [],
   "source": [
    "# Setting the tree drawing parameters.\n",
    "draw_ts = ts.draw_svg(\n",
    "    size=(700, 500),\n",
    "    y_axis=True,\n",
    "    y_label=' ',\n",
    "    time_scale='rank',\n",
    "    x_scale='treewise',\n",
    "    )\n",
    "# Print the newick format since the coal times are always cut off.\n",
    "print(ts.first().newick())\n",
    "# Draw the tree in a slightly more fancy way.\n",
    "display(SVG(draw_ts))"
   ]
  },
  {
   "cell_type": "markdown",
   "id": "254d3f8b",
   "metadata": {},
   "source": [
    "So now that we can visualize the tree lets look at some of the tree properties that we discussed in lecture."
   ]
  },
  {
   "cell_type": "code",
   "execution_count": null,
   "id": "f8681a1f",
   "metadata": {},
   "outputs": [],
   "source": [
    "# Extract the first and only tree from the treesequence.\n",
    "tree = ts.first()"
   ]
  },
  {
   "cell_type": "code",
   "execution_count": null,
   "id": "c26d9b14",
   "metadata": {},
   "outputs": [],
   "source": [
    "# For every node...\n",
    "for node in range(5): # There are 4 nodes.\n",
    "    # If the node is a sample node...\n",
    "    if tree.is_leaf(node):\n",
    "        # Find the parent node.\n",
    "        parent = tree.parent(node)\n",
    "        # Find the branch length or amount of time between the child and parent node.\n",
    "        coal_time = tree.branch_length(node)\n",
    "        # Print a summary.\n",
    "        print(f'node {node} is a leaf that finds its mrca with its parent node {parent}, {coal_time} generations ago')\n",
    "    # Else...\n",
    "    else:\n",
    "        # Identify the children nodes.\n",
    "        child_1, child_2 = tree.children(node)\n",
    "        # Identify the time this parent node exists.\n",
    "        coal_time = tree.time(node)\n",
    "        # Print a summary.\n",
    "        print(f'node {node} is the parent node of leaves {child_1} and {child_2} that coalesce {coal_time} generations ago')"
   ]
  },
  {
   "cell_type": "markdown",
   "id": "6e2f28a9",
   "metadata": {},
   "source": [
    "In some instances we may need to traverse the tree by visiting every node. There are multiple different orderings in which we can visit all the nodes. Here is a quick overview:\n",
    "\n",
    "- preorder: root $\\rightarrow$ left subtree $\\rightarrow$ right subtree\n",
    "- inorder: left subtree $\\rightarrow$ root $\\rightarrow$ right subtree\n",
    "- postorder: left subtree $\\rightarrow$ right subtree $\\rightarrow$ root"
   ]
  },
  {
   "cell_type": "code",
   "execution_count": null,
   "id": "fde33aeb",
   "metadata": {},
   "outputs": [],
   "source": [
    "# For every travesal order.\n",
    "for trav_order in ['preorder', 'inorder', 'postorder']:\n",
    "    # Print the traversal order.\n",
    "    print(f'{trav_order}:\\t', list(tree.nodes(order=trav_order)))"
   ]
  },
  {
   "cell_type": "markdown",
   "id": "c0bbe689",
   "metadata": {},
   "source": [
    "In some cases the actual order doesn't make a difference. For, exmaple let's calculate the total branch length using the the tree-traversel method and the built in functionality."
   ]
  },
  {
   "cell_type": "code",
   "execution_count": null,
   "id": "6ae0682f",
   "metadata": {},
   "outputs": [],
   "source": [
    "# Calculate the totatl branch length by traversing the tree.\n",
    "trav_tot_bl = sum(tree.branch_length(u) for u in tree.nodes())\n",
    "# Calculate the total branch length using the built in functionality.\n",
    "tskit_tot_bl = tree.total_branch_length \n",
    "# Print a summary.\n",
    "print(f'total branch length: {trav_tot_bl} (traversal) vs {tskit_tot_bl} (tskit)')"
   ]
  },
  {
   "cell_type": "markdown",
   "id": "7d641816",
   "metadata": {},
   "source": [
    "Does this all make sense? I have added a couple of blank cells for you to play around simulating with different sample and effective population sizes. What general patterns emerge?"
   ]
  },
  {
   "cell_type": "code",
   "execution_count": null,
   "id": "22d35274",
   "metadata": {},
   "outputs": [],
   "source": []
  },
  {
   "cell_type": "code",
   "execution_count": null,
   "id": "5fb0aae8",
   "metadata": {},
   "outputs": [],
   "source": []
  },
  {
   "cell_type": "code",
   "execution_count": null,
   "id": "f0bd345d",
   "metadata": {},
   "outputs": [],
   "source": []
  },
  {
   "cell_type": "code",
   "execution_count": null,
   "id": "a635cd35",
   "metadata": {},
   "outputs": [],
   "source": []
  },
  {
   "cell_type": "code",
   "execution_count": null,
   "id": "cb947dc2",
   "metadata": {},
   "outputs": [],
   "source": []
  },
  {
   "cell_type": "markdown",
   "id": "78f13ea2",
   "metadata": {},
   "source": [
    "### Mutation Simulation\n",
    "We will often want to simulate genetic variation under a nuetral model, which is where mutation simulations come in! Let's overlay mutations, onto the tree we originally simulated."
   ]
  },
  {
   "cell_type": "code",
   "execution_count": null,
   "id": "c65c3ea5",
   "metadata": {},
   "outputs": [],
   "source": [
    "# Perform an ancestry simulation for three samples with an effective population size of 1e6.\n",
    "ts = msprime.sim_ancestry(\n",
    "    samples=3,\n",
    "    population_size=1e6,\n",
    "    ploidy=1, # Simulate haploids.\n",
    "    random_seed=42,\n",
    ")\n",
    "# Overlay mutations at a rate of 2.5e-6 per base pair per generation.\n",
    "mts = msprime.sim_mutations(\n",
    "    tree_sequence=ts,\n",
    "    rate=2.5e-6,\n",
    "    random_seed=24,\n",
    "    discrete_genome=False,\n",
    ")\n",
    "# Show the mutated tree-seequence.\n",
    "mts"
   ]
  },
  {
   "cell_type": "markdown",
   "id": "a0c2b574",
   "metadata": {},
   "source": [
    "What looks different about the summary of this tree sequence? Let's take a look to see what is going on!"
   ]
  },
  {
   "cell_type": "code",
   "execution_count": null,
   "id": "462b9198",
   "metadata": {},
   "outputs": [],
   "source": [
    "# Setting the tree drawing parameters.\n",
    "draw_mts = mts.draw_svg(\n",
    "    size=(700, 500),\n",
    "    y_axis=True,\n",
    "    y_label=' ',\n",
    "    time_scale='rank',\n",
    "    x_scale='treewise',\n",
    "    )\n",
    "# Print the newick format since the coal times are always cut off.\n",
    "print(mts.first().newick())\n",
    "# Draw the tree in a slightly more fancy way.\n",
    "display(SVG(draw_mts))"
   ]
  },
  {
   "cell_type": "markdown",
   "id": "6a7af977",
   "metadata": {},
   "source": [
    "Now we can clearly see that two mutations have occured on the external branches leading to sample nodes 0 and 1. Now let's view some more tree properties."
   ]
  },
  {
   "cell_type": "code",
   "execution_count": null,
   "id": "2d78b70b",
   "metadata": {},
   "outputs": [],
   "source": [
    "# Extract the first and only tree from the treesequence.\n",
    "tree = mts.first()\n",
    "# Extract the genotype matrix.\n",
    "geno_mat = mts.genotype_matrix()"
   ]
  },
  {
   "cell_type": "code",
   "execution_count": null,
   "id": "306dd192",
   "metadata": {},
   "outputs": [],
   "source": [
    "# Find the number of mutations on this tree.\n",
    "n_muts = tree.num_mutations\n",
    "# Print a summary.\n",
    "print(f'there are {n_muts} mutations on this tree')\n",
    "# For every mutation on the tree...\n",
    "for mut in mts.mutations():\n",
    "    # Print the mutation summary.\n",
    "    print(mut)"
   ]
  },
  {
   "cell_type": "code",
   "execution_count": null,
   "id": "a8198a23",
   "metadata": {},
   "outputs": [],
   "source": [
    "# View the genotype matrix.\n",
    "geno_mat"
   ]
  },
  {
   "cell_type": "markdown",
   "id": "0cce1baa",
   "metadata": {},
   "source": [
    "How does the tree differ once we add mutations? Does the genotype matrix for this tree make sense? Take the next couple of cells to play around by adjusting the sample size, effective population size, and mutation rate. For 99.99% of this class we will use the option `discrete_genome=False` why do you think that is? Play around by changing it to `True`. What happens? Once you are done playing with the tree-sequences and mutation simulations read this [`sim_ancestry` section](https://tskit.dev/msprime/docs/stable/ancestry.html#sec-ancestry-discrete-genome) and this [`sim_mutations` section](https://tskit.dev/msprime/docs/stable/mutations.html#discrete-or-continuous) about simultaing disrete genomes. Why do you think we will use the option `discrete_genome=False` so much in this course?"
   ]
  },
  {
   "cell_type": "code",
   "execution_count": null,
   "id": "10c34f28",
   "metadata": {},
   "outputs": [],
   "source": []
  },
  {
   "cell_type": "code",
   "execution_count": null,
   "id": "e6e53286",
   "metadata": {},
   "outputs": [],
   "source": []
  },
  {
   "cell_type": "code",
   "execution_count": null,
   "id": "e317ffc1",
   "metadata": {},
   "outputs": [],
   "source": []
  },
  {
   "cell_type": "code",
   "execution_count": null,
   "id": "18a9e2cf",
   "metadata": {},
   "outputs": [],
   "source": []
  },
  {
   "cell_type": "code",
   "execution_count": null,
   "id": "012c7bd1",
   "metadata": {},
   "outputs": [],
   "source": []
  },
  {
   "cell_type": "markdown",
   "id": "486de4ab",
   "metadata": {},
   "source": [
    "### Demography\n",
    "So far we have been only simulating one population with a constant effective population size. This is very useful for validating classical population genetic theory, but we can produce some more realistic simulations by using demographic objects. Let's start off by creating a demographic model from [Racimo et al., 2017](https://academic.oup.com/mbe/article/34/2/296/2633371) figure 2A. __Note:__ this is a neutral version of model A using since the original paper used a WF-simulator."
   ]
  },
  {
   "cell_type": "code",
   "execution_count": null,
   "id": "a1b2852f",
   "metadata": {},
   "outputs": [],
   "source": [
    "# Define a function for model a from figure 2a.\n",
    "def racimo_model_a(f):\n",
    "    # Intialize demographic model.\n",
    "    model = msprime.Demography()\n",
    "    # We assume constant and equal effective population sizes for\n",
    "    # all lineages.\n",
    "    model.add_population(name='AFR', initial_size=10_000)\n",
    "    model.add_population(name='EUR', initial_size=10_000)\n",
    "    model.add_population(name='NEA', initial_size=10_000)\n",
    "    model.add_population(name='AMH', initial_size=10_000)\n",
    "    model.add_population(name='HUM', initial_size=10_000)\n",
    "    # Introgression from the Neanderthal to the Eurasian lineage\n",
    "    # occuring 1,600 generations ago with a probability of f.\n",
    "    model.add_mass_migration(\n",
    "        time=1_600, source='EUR', dest='NEA', proportion=f,\n",
    "    )\n",
    "    # The African and Eurasian lineages merge into the anatomically\n",
    "    # modern human lineage 4,000 generations ago.\n",
    "    model.add_population_split(\n",
    "        time=4_000, derived=['AFR', 'EUR'], ancestral='AMH',\n",
    "    )\n",
    "    # The anatomically modern human and Neanderthal lineages merge\n",
    "    # into the ancestral human lineage 16,000 generations ago.\n",
    "    model.add_population_split(\n",
    "        time=16_000, derived=['AMH', 'NEA'], ancestral='HUM',\n",
    "    )\n",
    "    return model"
   ]
  },
  {
   "cell_type": "code",
   "execution_count": null,
   "id": "852f22ff",
   "metadata": {},
   "outputs": [],
   "source": [
    "# Intialize a model with an introgression prbability of 0.1 .\n",
    "racimo_f01_demo = racimo_model_a(0.1)"
   ]
  },
  {
   "cell_type": "code",
   "execution_count": null,
   "id": "b06c751a",
   "metadata": {},
   "outputs": [],
   "source": [
    "# Show the demography summary.\n",
    "racimo_f01_demo"
   ]
  },
  {
   "cell_type": "code",
   "execution_count": null,
   "id": "68d322c3",
   "metadata": {},
   "outputs": [],
   "source": [
    "# Print the demography debugger.\n",
    "racimo_f01_demo.debug()"
   ]
  },
  {
   "cell_type": "markdown",
   "id": "5d4cf1c2",
   "metadata": {},
   "source": [
    "Carefully look over figure 2A  from [Racimo et al., 2017](https://academic.oup.com/mbe/article/34/2/296/2633371) and the demographic model above. Are the two consistent, why or why not? Thinking about time from a coalescent prospective is not always intuitve at first, so let's convert the demographic obeject to a `demes` graph and plot it using `demesdraw`."
   ]
  },
  {
   "cell_type": "code",
   "execution_count": null,
   "id": "3b8dcf40",
   "metadata": {},
   "outputs": [],
   "source": [
    "# Convert the demographic object to a demes graph.\n",
    "racimo_f01_graph = msprime.Demography.to_demes(racimo_f01_demo)"
   ]
  },
  {
   "cell_type": "code",
   "execution_count": null,
   "id": "20e63523",
   "metadata": {},
   "outputs": [],
   "source": [
    "# Intialize the figure.\n",
    "fig = plt.figure(\n",
    "    figsize=(6, 3),\n",
    "    constrained_layout=True,\n",
    "    dpi=300.0,\n",
    ")\n",
    "# Intialize the axes.\n",
    "ax = fig.add_subplot(111)\n",
    "# Plot the demes graph.\n",
    "demesdraw.tubes(\n",
    "    racimo_f01_graph,\n",
    "    ax=ax,\n",
    "    title='Model A from Racimo et al., 2017',\n",
    "    seed=42,\n",
    ")\n",
    "# Show the plot.\n",
    "plt.show()"
   ]
  },
  {
   "cell_type": "markdown",
   "id": "af50e845",
   "metadata": {},
   "source": [
    "Now that you have visualized the the demographic model, go back and read over the demography debugger. Does everything make sense now? If not, look through the `msprime` documentation and then ask your instructor if you are still confused."
   ]
  },
  {
   "cell_type": "markdown",
   "id": "c67d3800",
   "metadata": {},
   "source": [
    "#### A Quick Aside About `demes` & `demesdraw`\n",
    "\n",
    "Just a quick aside, but as you have probably already noticed it is quite easy to make coding mistakes or simply write down the wrong parameters. In fact there is a [scientific paper](https://www.sciencedirect.com/science/article/pii/S000292972030286X) on that was published in 2020 about this exact issue! However, a good thing that came out of this was `demes` (a new file format for demographic models) and `demesdraw` (a quick and easy way to visualize demographic models). I will often use `demes` graphs instead of demogrpahic objects. Let's look at one now."
   ]
  },
  {
   "cell_type": "code",
   "execution_count": null,
   "id": "679dc642",
   "metadata": {},
   "outputs": [],
   "source": [
    "# Load the demographic model as a demes graph.\n",
    "org_ooa_aa_graph = demes.load('../data/HomSap__OutOfAfricaArchaicAdmixture_5R19.yaml')"
   ]
  },
  {
   "cell_type": "code",
   "execution_count": null,
   "id": "51478ece",
   "metadata": {},
   "outputs": [],
   "source": [
    "# Intialize the figure.\n",
    "fig = plt.figure(\n",
    "    figsize=(6, 3),\n",
    "    constrained_layout=True,\n",
    "    dpi=300.0,\n",
    ")\n",
    "# Intialize the axes.\n",
    "ax = fig.add_subplot(111)\n",
    "# Plot the demes graph.\n",
    "demesdraw.tubes(\n",
    "    org_ooa_aa_graph,\n",
    "    ax=ax,\n",
    "    title='Out of Africa w/ Archaic Admixture Model',\n",
    "    seed=42,\n",
    ")\n",
    "# Show the plot.\n",
    "plt.show()"
   ]
  },
  {
   "cell_type": "code",
   "execution_count": null,
   "id": "03e47be5",
   "metadata": {},
   "outputs": [],
   "source": [
    "# Convert the graph to a demographic object.\n",
    "org_ooa_aa_demo = msprime.Demography.from_demes(org_ooa_aa_graph)\n",
    "# Print the demography debugger.\n",
    "org_ooa_aa_demo.debug()"
   ]
  },
  {
   "cell_type": "markdown",
   "id": "9f0fad38",
   "metadata": {},
   "source": [
    "Ok now back to our regulary scheduled programming—haha get it because we are coding... So far, we have ignored recombination, however, recombination is a very important process as it creates multiple tree along the genome that are spatially autocorrelated. Let's simulate a neutral version of Model A from [Racimo et al., 2017](https://academic.oup.com/mbe/article/34/2/296/2633371) to see demography + recombination in action!"
   ]
  },
  {
   "cell_type": "code",
   "execution_count": null,
   "id": "7a671bf7",
   "metadata": {},
   "outputs": [],
   "source": [
    "# Simulate a segment of 10kb, with a recombination rate of 1e-8 and sample\n",
    "# one monoploid genome from the focal populations.\n",
    "racimo_f01_ts = msprime.sim_ancestry(\n",
    "    samples=[\n",
    "        msprime.SampleSet(1, ploidy=1, population='AFR'),\n",
    "        msprime.SampleSet(1, ploidy=1, population='EUR'),\n",
    "        msprime.SampleSet(1, ploidy=1, population='NEA'),\n",
    "    ],\n",
    "    demography=racimo_f01_demo,\n",
    "    record_migrations=True,  # Needed for tracking segments later.\n",
    "    sequence_length=10_000,\n",
    "    recombination_rate=1e-8,\n",
    "    random_seed=42,\n",
    ")\n",
    "# Show the tree-sequence summary.\n",
    "racimo_f01_ts"
   ]
  },
  {
   "cell_type": "markdown",
   "id": "414e882d",
   "metadata": {},
   "source": [
    "How does this tree-sequence summary differ from the ones before? Let's start by visualizing the tree-sequence."
   ]
  },
  {
   "cell_type": "code",
   "execution_count": null,
   "id": "b8ba3375",
   "metadata": {},
   "outputs": [],
   "source": [
    "# Print the tree as a text output.\n",
    "print(racimo_f01_ts.draw_text())"
   ]
  },
  {
   "cell_type": "code",
   "execution_count": null,
   "id": "4c0446cf",
   "metadata": {},
   "outputs": [],
   "source": [
    "# Setting the tree drawing parameters.\n",
    "draw_racimo_f01_ts = racimo_f01_ts.draw_svg(\n",
    "    size=(700, 500),\n",
    "    y_axis=True,\n",
    "    y_label=' ',\n",
    "    time_scale='rank',\n",
    "    x_scale='treewise',\n",
    "    )\n",
    "# Draw the tree in a slightly more fancy way.\n",
    "display(SVG(draw_racimo_f01_ts))"
   ]
  },
  {
   "cell_type": "markdown",
   "id": "e56e5d13",
   "metadata": {},
   "source": [
    "Now, we can clearly see that the recombination process produced multiple trees broken seperated by the recombination brake points. Now let's view some properties of the tree-sequence."
   ]
  },
  {
   "cell_type": "code",
   "execution_count": null,
   "id": "c92136e9",
   "metadata": {},
   "outputs": [],
   "source": [
    "# Find the number of trees.\n",
    "n_trees = racimo_f01_ts.num_trees\n",
    "# Pint a summary.\n",
    "print(f'there are {n_trees} trees in this tree-sequence')\n",
    "# Find all of the breakpoints including the start and end of the sequence.\n",
    "break_points = racimo_f01_ts.breakpoints(as_array=True)\n",
    "# For every breakpoint...\n",
    "for break_point in break_points[1:-1]:\n",
    "    # Print a summary.\n",
    "    print(f'there is a breakpoint at position {break_point}')\n",
    "# For every tree....\n",
    "for tree in racimo_f01_ts.trees():\n",
    "    # Print the tree summary.\n",
    "    print(f'tree {tree.index} covers {tree.interval}')"
   ]
  },
  {
   "cell_type": "markdown",
   "id": "267364cb",
   "metadata": {},
   "source": [
    "Now, let's overlay some mutations to our tree-sequence."
   ]
  },
  {
   "cell_type": "code",
   "execution_count": null,
   "id": "b320de7a",
   "metadata": {},
   "outputs": [],
   "source": [
    "# Simulate a segment of 10kb, with a recombination rate of 1e-8 and sample\n",
    "# one monoploid genome from the focal populations.\n",
    "racimo_f01_ts = msprime.sim_ancestry(\n",
    "    samples=[\n",
    "        msprime.SampleSet(1, ploidy=1, population='AFR'),\n",
    "        msprime.SampleSet(1, ploidy=1, population='EUR'),\n",
    "        msprime.SampleSet(1, ploidy=1, population='NEA'),\n",
    "    ],\n",
    "    demography=racimo_f01_demo,\n",
    "    record_migrations=True,  # Needed for tracking segments later.\n",
    "    sequence_length=10_000,\n",
    "    recombination_rate=1e-8,\n",
    "    random_seed=42,\n",
    ")\n",
    "# Overlay mutations at a rate of 1.5e-8 per base pair per generation.\n",
    "racimo_f01_mts = msprime.sim_mutations(\n",
    "    tree_sequence=racimo_f01_ts,\n",
    "    rate=1.5e-8,\n",
    "    random_seed=42,\n",
    "    discrete_genome=False,\n",
    ")\n",
    "# Show the tree-sequence summary.\n",
    "racimo_f01_mts"
   ]
  },
  {
   "cell_type": "code",
   "execution_count": null,
   "id": "44fa71b2",
   "metadata": {},
   "outputs": [],
   "source": [
    "# Setting the tree drawing parameters.\n",
    "draw_racimo_f01_mts = racimo_f01_mts.draw_svg(\n",
    "    size=(700, 500),\n",
    "    y_axis=True,\n",
    "    y_label=' ',\n",
    "    time_scale='rank',\n",
    "    x_scale='treewise',\n",
    "    )\n",
    "# Draw the tree in a slightly more fancy way.\n",
    "display(SVG(draw_racimo_f01_mts))"
   ]
  },
  {
   "cell_type": "markdown",
   "id": "fefcedbe",
   "metadata": {},
   "source": [
    "### Tables\n",
    "So I specifically kept migrations turned on and overlayed mutations to highlight the table functionality. Let's take a look at them now.\n",
    "\n",
    "#### Node Table\n",
    "The node table records the information associated with a node which represents an ancestral haploid genome—__NOTE:__ The `id` column is only visualized but not actually recorded. \n",
    "- `flags` column has a value of 1 if the node is a sample node and 0 otherwise.\n",
    "- `population` column records the population id for the node and is -1 otherwise.\n",
    "- `individual` column records the individual id for the node and is -1 otherwise.\n",
    "- `time` column records the birth time of that node.\n",
    "- `metadata` column contains any associated metadata for that node.  "
   ]
  },
  {
   "cell_type": "code",
   "execution_count": null,
   "id": "1a85e944",
   "metadata": {},
   "outputs": [],
   "source": [
    "# View the node table.\n",
    "racimo_f01_mts.tables.nodes"
   ]
  },
  {
   "cell_type": "markdown",
   "id": "313039be",
   "metadata": {},
   "source": [
    "#### Edge Table\n",
    "The edge table records the parent-child relationship between a pair of nodes over a genomic interval—__NOTE:__ The `id` column is only visualized but not actually recorded. \n",
    "- `left` column records the left coordinate (inclusive) of the half open genomic interval `[left, right)` over which the `child` node is inherited from a given `parent` node.\n",
    "- `right` column records the right coordinate (inclusive) of the half open genomic interval `[left, right)` over which the `child` node is inherited from a given `parent` node.\n",
    "- `parent` column records the node id of the `parent` node.\n",
    "- `child` column records the node id of the `child` node.\n",
    "- `metadata` column contains any associated metadata for that node. "
   ]
  },
  {
   "cell_type": "code",
   "execution_count": null,
   "id": "0846dfe4",
   "metadata": {},
   "outputs": [],
   "source": [
    "racimo_f01_mts.tables.edges"
   ]
  },
  {
   "cell_type": "markdown",
   "id": "ebb074f8",
   "metadata": {},
   "source": [
    "#### Migrations Table\n",
    "The migration table records the genomic segments that have moved between populations—__NOTE:__ The `id` column is only visualized but not actually recorded. \n",
    "- `left` column records the left coordinate (inclusive) of the half open genomic interval `[left, right)` of the migrating genomic segment.\n",
    "- `right` column records the right coordinate (inclusive) of the half open genomic interval `[left, right)` of the migrating genomic segment.\n",
    "- `node` column records the ancestral node associated with the genomic segment at the time of migration. \n",
    "- `source` column records the population id of the migrating genomic segment—i.e., introgression from `dest` to `source` (forwards in time).\n",
    "- `dest` column records the population id of the migrating genomic segment—i.e., introgression from `dest` to `source` (forwards in time).\n",
    "- `time` column records the birth time of the migration event.\n",
    "- `metadata` column contains any associated metadata for that node. "
   ]
  },
  {
   "cell_type": "code",
   "execution_count": null,
   "id": "a77ae6e3",
   "metadata": {},
   "outputs": [],
   "source": [
    "racimo_f01_mts.tables.migrations"
   ]
  },
  {
   "cell_type": "markdown",
   "id": "167013f6",
   "metadata": {},
   "source": [
    "#### Site Table\n",
    "The site table records the genomic positions and ancestral state of mutated sites.\n",
    "- `id` column record the variable site id.\n",
    "- `position` column records the genomic coordinates of the mutated site.\n",
    "- `ancestral_state` column records the ancestral allelic state as specified by the root of the tree."
   ]
  },
  {
   "cell_type": "code",
   "execution_count": null,
   "id": "b54c5d30",
   "metadata": {},
   "outputs": [],
   "source": [
    "racimo_f01_mts.tables.sites"
   ]
  },
  {
   "cell_type": "markdown",
   "id": "dd646b0f",
   "metadata": {},
   "source": [
    "#### Mutation Table\n",
    "The mutation table records the genomic positions and ancestral state of mutated sites—__NOTE:__ The `id` column is only visualized but not actually recorded. \n",
    "- `site` column records the variable site id that was mutated.\n",
    "- `node` column records the id of the first node below the mutation (ie the node that inherits the mutation).\n",
    "- `time` column records the how many generations ago the mutation arose.\n",
    "- `derived_state` column records the allelic state resulting from the mutation.\n",
    "- `parent` column records information about multiple hit mutations (don't worry about this)."
   ]
  },
  {
   "cell_type": "code",
   "execution_count": null,
   "id": "45685049",
   "metadata": {},
   "outputs": [],
   "source": [
    "racimo_f01_mts.tables.mutations"
   ]
  },
  {
   "cell_type": "markdown",
   "id": "3b273638",
   "metadata": {},
   "source": [
    "Ok that was a lot of information. Make sure you take the time to play with around in some extra cells to make sure that you fully understand what is going on. Refernce the documentation and ask your instructor questions!"
   ]
  },
  {
   "cell_type": "code",
   "execution_count": null,
   "id": "08d68c7a",
   "metadata": {},
   "outputs": [],
   "source": []
  },
  {
   "cell_type": "code",
   "execution_count": null,
   "id": "5e0c83dc",
   "metadata": {},
   "outputs": [],
   "source": []
  },
  {
   "cell_type": "code",
   "execution_count": null,
   "id": "138053e5",
   "metadata": {},
   "outputs": [],
   "source": []
  },
  {
   "cell_type": "code",
   "execution_count": null,
   "id": "ebe217fa",
   "metadata": {},
   "outputs": [],
   "source": []
  },
  {
   "cell_type": "code",
   "execution_count": null,
   "id": "b579bd10",
   "metadata": {},
   "outputs": [],
   "source": []
  },
  {
   "cell_type": "code",
   "execution_count": null,
   "id": "4a1397dd",
   "metadata": {},
   "outputs": [],
   "source": []
  },
  {
   "cell_type": "code",
   "execution_count": null,
   "id": "417c134d",
   "metadata": {},
   "outputs": [],
   "source": []
  },
  {
   "cell_type": "code",
   "execution_count": null,
   "id": "ddfe761f",
   "metadata": {},
   "outputs": [],
   "source": []
  },
  {
   "cell_type": "code",
   "execution_count": null,
   "id": "1aadeed8",
   "metadata": {},
   "outputs": [],
   "source": []
  },
  {
   "cell_type": "code",
   "execution_count": null,
   "id": "153a57bb",
   "metadata": {},
   "outputs": [],
   "source": []
  },
  {
   "cell_type": "markdown",
   "id": "6a521f4f",
   "metadata": {},
   "source": [
    "## Challenge: Validating the Expected Waiting Times Until the First Coalescent Event\n",
    "Using simulations without recombination or mutations validate the expected waiting times until the first coalescent event as a function of $i$ haploid samples—ie $\\mathbb{E} \\left(T_{i} \\right) = \\frac{N}{\\binom{i}{2}}$. Make a plot and table to compare the analytical results versus the mean of 1,000 replicate simulations using the following parameters:\n",
    "\n",
    "- $N$ = 10,000\n",
    "- $i$ = 2, 3, 4, 5, 6, 7, 8, 9, 10"
   ]
  },
  {
   "cell_type": "code",
   "execution_count": null,
   "id": "dc7e7e3c",
   "metadata": {},
   "outputs": [],
   "source": [
    "# Define a function to calcualte the analytical solutions.\n",
    "def e_t_i(N, i):\n",
    "    return (N / ((i * (i - 1)) / 2))"
   ]
  },
  {
   "cell_type": "code",
   "execution_count": null,
   "id": "ded9e730",
   "metadata": {},
   "outputs": [],
   "source": [
    "# Intialize an array of sample sizes.\n",
    "sample_sizes = np.array([\n",
    "    2, 3, 4,\n",
    "    5, 6, 7,\n",
    "    8, 9, 10,\n",
    "])\n",
    "# Define the number of replicate simulations to run.\n",
    "n_reps = 1_000\n",
    "# Intialize an empty array to store the results.\n",
    "sim_mean_t_i = np.array([])\n",
    "# For every sample size...\n",
    "for samps in sample_sizes:\n",
    "    # Intialize an empty list to store results.\n",
    "    t_i = []\n",
    "    # For every tree-sequence...\n",
    "    for ts in msprime.sim_ancestry(\n",
    "        samples=samps,\n",
    "        population_size=10_000,\n",
    "        ploidy=1,\n",
    "        discrete_genome=False,\n",
    "        num_replicates=n_reps,\n",
    "    ):\n",
    "        # Extract the first tree.\n",
    "        tree = ts.first()\n",
    "        # Append the results. \n",
    "        t_i.append(tree.time(samps))\n",
    "    # Append the mean from 1000 simulations.\n",
    "    sim_mean_t_i = np.append(sim_mean_t_i, np.mean(np.array(t_i)))\n",
    "# Calculate the analytical solutions.\n",
    "exp_t_i = np.array([e_t_i(N=10_000, i=n) for n in sample_sizes])\n",
    "# Intialize a df dictionary.\n",
    "df_dicc = {\n",
    "    'Simulated Results': np.round(sim_mean_t_i, 3),\n",
    "    'Analytical Results': np.round(exp_t_i, 3),\n",
    "}\n",
    "# Generate a list of indicies.\n",
    "df_idx = [\n",
    "    r'$T_{2}$', r'$T_{3}$', r'$T_{4}$',\n",
    "    r'$T_{5}$', r'$T_{6}$', r'$T_{7}$',\n",
    "    r'$T_{8}$', r'$T_{9}$', r'$T_{10}$',\n",
    "]\n",
    "# Intialize the results data frame.\n",
    "t_i_df = pd.DataFrame(data=df_dicc, index=df_idx)"
   ]
  },
  {
   "cell_type": "code",
   "execution_count": null,
   "id": "c288116e",
   "metadata": {},
   "outputs": [],
   "source": [
    "# Show the results.\n",
    "t_i_df"
   ]
  },
  {
   "cell_type": "code",
   "execution_count": null,
   "id": "ca00b613",
   "metadata": {},
   "outputs": [],
   "source": [
    "# Intialize the figure.\n",
    "fig = plt.figure(figsize=(8, 4), constrained_layout=True, dpi=300)\n",
    "# Intialize the axes.\n",
    "ax = fig.add_subplot(111)\n",
    "# Plot the simulated results.\n",
    "ax.scatter(\n",
    "    sample_sizes, sim_mean_t_i,\n",
    "    color='tab:blue', label='Simulated Results',\n",
    ")\n",
    "# Plot the analytical solutions.\n",
    "ax.plot(\n",
    "    np.linspace(2, 10, 100),\n",
    "    np.array([e_t_i(N=10_000, i=n) for n in np.linspace(2, 10, 100)]), \n",
    "    color='tab:orange', label='Analytical Solutions',\n",
    ")\n",
    "# Despine the axes.\n",
    "ax.spines['top'].set_visible(False)\n",
    "ax.spines['right'].set_visible(False)\n",
    "# Label the x-axis ticks.\n",
    "ax.set_xticks(sample_sizes)\n",
    "# Plot the legend.\n",
    "ax.legend(loc='center left', bbox_to_anchor=(1.0, 0.5), frameon=False)\n",
    "# Label the axes.\n",
    "plt.xlabel('Sample Size')\n",
    "plt.ylabel(r'$T_{i}$', rotation=0)\n",
    "# Show!\n",
    "plt.show()"
   ]
  },
  {
   "cell_type": "markdown",
   "id": "587b6414",
   "metadata": {},
   "source": [
    "Based on the table and the plot above our simulations closely mirror our anayltical expectations! The plot and table also highlight that waiting times until the first coalescent event decrease as the sample size increases!"
   ]
  },
  {
   "cell_type": "code",
   "execution_count": null,
   "id": "c44690a1",
   "metadata": {},
   "outputs": [],
   "source": []
  }
 ],
 "metadata": {
  "kernelspec": {
   "display_name": "Python 3 (ipykernel)",
   "language": "python",
   "name": "python3"
  },
  "language_info": {
   "codemirror_mode": {
    "name": "ipython",
    "version": 3
   },
   "file_extension": ".py",
   "mimetype": "text/x-python",
   "name": "python",
   "nbconvert_exporter": "python",
   "pygments_lexer": "ipython3",
   "version": "3.9.15"
  }
 },
 "nbformat": 4,
 "nbformat_minor": 5
}
