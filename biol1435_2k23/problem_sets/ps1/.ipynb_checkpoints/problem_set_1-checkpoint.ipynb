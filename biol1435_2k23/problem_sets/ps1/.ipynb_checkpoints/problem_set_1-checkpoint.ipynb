{
 "cells": [
  {
   "cell_type": "markdown",
   "id": "f17c9619",
   "metadata": {},
   "source": [
    "# Problem Set 1\n",
    "\n",
    "For this problem set we will look at patterns of genetic diversity at the _LCT_ and _MCM6_ genes. Studies have shown that this locus exhibits signals consistent with positive selection in European populations and is associated with lactase persistence—a trait unique among mammals and is thought to be a result of cattle domestication and the incorporation of milk into the adult diets of several human populations (Enattah et al. 2002; Marnetto and Huerta-Sánchez 2017; Smith et al. 2018).\n",
    "\n",
    "__ASSIGNMENT__\n",
    "- There are six coding problems and one interpretation problem.\n",
    "- For partial credit please annotate your code (ie un-annotated code will not receive partial credit).\n",
    "- The following python modules are required to complete this problem set, however, you can use other modules at your own risk.\n",
    "- Do not alter the code in the `Data Processing` section except for changing file paths.\n",
    "- You may not work with other students, but you may ask the instructor questions by email or by coming to office hours, reference package documentation, reference coding exercises from previous lectures, and refernce the course GitHub.\n",
    "\n",
    "__HELPFUL HINTS__\n",
    "- Feel free to add more cells if needed!\n",
    "- Don't forget to consider ploidy.\n",
    "- Remember the bounds for the site frequency spectrum.\n",
    "- Take a deep breathe, and remember that you are very capable!"
   ]
  },
  {
   "cell_type": "code",
   "execution_count": 1,
   "id": "a8044d1a",
   "metadata": {},
   "outputs": [],
   "source": [
    "# Import modules.\n",
    "import h5py\n",
    "from matplotlib import pyplot as plt\n",
    "import numpy as np\n",
    "import pandas as pd\n",
    "import toyplot"
   ]
  },
  {
   "cell_type": "markdown",
   "id": "18d16a01",
   "metadata": {},
   "source": [
    "## Data Processing \n",
    "\n",
    "First, I will load the converted vcf file as a HDF5 file and extract the necessary information needed to complete this problem set."
   ]
  },
  {
   "cell_type": "code",
   "execution_count": 2,
   "id": "3dfc8078",
   "metadata": {},
   "outputs": [],
   "source": [
    "# Load the hdf5 data.\n",
    "lct_mcm6_h5 = h5py.File('./data/tgp_lct_mcm6_biallelic_snps_anc_calls_filtered.h5', mode='r')\n",
    "# Extract the genotypes.\n",
    "lct_mcm6_gt = lct_mcm6_h5['calldata/GT'][:]\n",
    "# Convert the genotypes to an alternative allele count matrix.\n",
    "lct_mcm6_aac_mat = np.sum(lct_mcm6_gt, axis=2)\n",
    "# Extract the variable positions array.\n",
    "lct_mcm6_pos = lct_mcm6_h5['variants/POS'][:]"
   ]
  },
  {
   "cell_type": "markdown",
   "id": "41b3e4e9",
   "metadata": {},
   "source": [
    "Next, I will define a function to polarize the allele count matrix and subsequently convert the alternative allele count matrix to the derived allele count matrix."
   ]
  },
  {
   "cell_type": "code",
   "execution_count": 3,
   "id": "dbb3be32",
   "metadata": {},
   "outputs": [],
   "source": [
    "# Define a function to convert genotypes to derived allele counts.\n",
    "def aac_2_dac(aac):\n",
    "    \"\"\"Returns a derived allele count matrix where an individual can have\n",
    "       the following possible genotype entries:\n",
    "       \n",
    "       0 = homozygous for the ancestral allele\n",
    "       1 = heterozygous\n",
    "       2 = homozygous for the derived allele\n",
    "    \n",
    "    aac -- alternative allele count matrix with the outgroup encoded in \n",
    "           the last column of the matrix.\n",
    "    \"\"\"\n",
    "    # Intialize a derived allele count matrix.\n",
    "    dac = np.empty_like(aac[:, 0:-1])\n",
    "    # For every site...\n",
    "    for site in range(aac.shape[0]):\n",
    "        # Extract the tgp samples and ancestor.\n",
    "        tgp = aac[site, 0:-1]\n",
    "        anc = aac[site, -1]\n",
    "        # If the alternative allele is the derived allele...\n",
    "        if anc > 0:\n",
    "            # Polarize the tgp.\n",
    "            p_tgp = np.abs(tgp - 2)\n",
    "            # Fill the derived allele count matrix.\n",
    "            dac[site, :] = p_tgp\n",
    "        # Else...\n",
    "        else:\n",
    "            # Fill the derived allele count matrix.\n",
    "            dac[site, :] = tgp\n",
    "    return dac"
   ]
  },
  {
   "cell_type": "code",
   "execution_count": 4,
   "id": "957c448d",
   "metadata": {},
   "outputs": [],
   "source": [
    "# Convert the alternative allele count matrix to\n",
    "# the derived allele count matrix.\n",
    "lct_mcm6_dac_mat = aac_2_dac(lct_mcm6_aac_mat)"
   ]
  },
  {
   "cell_type": "markdown",
   "id": "380ba70f",
   "metadata": {},
   "source": [
    "As, a sanity check let's make sure there are the same number of sites in the positions array as in the derived allele count matrix. Note: If the size of the positions array and the size of the first dimension in the derived allele count matrix is not 2464 contact the instructor ASAP."
   ]
  },
  {
   "cell_type": "code",
   "execution_count": 5,
   "id": "78591aef",
   "metadata": {},
   "outputs": [
    {
     "data": {
      "text/plain": [
       "2464"
      ]
     },
     "execution_count": 5,
     "metadata": {},
     "output_type": "execute_result"
    }
   ],
   "source": [
    "# Show the size of posistions array.\n",
    "lct_mcm6_pos.size"
   ]
  },
  {
   "cell_type": "code",
   "execution_count": 6,
   "id": "86804160",
   "metadata": {},
   "outputs": [
    {
     "data": {
      "text/plain": [
       "(2464, 2504)"
      ]
     },
     "execution_count": 6,
     "metadata": {},
     "output_type": "execute_result"
    }
   ],
   "source": [
    "# Show the shape of the derived allele count matrix.\n",
    "lct_mcm6_dac_mat.shape"
   ]
  },
  {
   "cell_type": "markdown",
   "id": "5af175a8",
   "metadata": {},
   "source": [
    "Great, the positions array and the derived allele count matrix are in agreement. Throughout this problem set you will run analyses on each super-population from the 1000 Genome's Project (TGP), so the last thing I will do for you is subset the original derived allele count matrix by super-population—however feel free to work from the original derived allele count matrix if you wish!"
   ]
  },
  {
   "cell_type": "code",
   "execution_count": 7,
   "id": "79ccd14a",
   "metadata": {},
   "outputs": [],
   "source": [
    "# Load the tgp metadata as a pandas dataframe.\n",
    "meta_df = pd.read_csv(\n",
    "    './data/tgp_meta_data.txt', sep='\\t',\n",
    "    names=['Individual', 'Population', 'Super-Population'],\n",
    ")\n",
    "# Intialize a super population list.\n",
    "superpop_list = ['AFR', 'SAS', 'EAS', 'EUR', 'AMR']\n",
    "# Intialize a dictionary to store indicies.\n",
    "superpop_idx_dicc = {}\n",
    "# For every super population...\n",
    "for superpop in superpop_list:\n",
    "    # Fill the dictionary.\n",
    "    superpop_idx_dicc[superpop] = meta_df[meta_df['Super-Population'] == superpop].index.values\n",
    "# Extract the derived allele count matrix for each super population.\n",
    "afr_dac_mat = lct_mcm6_dac_mat[:, superpop_idx_dicc['AFR']]\n",
    "sas_dac_mat = lct_mcm6_dac_mat[:, superpop_idx_dicc['SAS']]\n",
    "eas_dac_mat = lct_mcm6_dac_mat[:, superpop_idx_dicc['EAS']]\n",
    "eur_dac_mat = lct_mcm6_dac_mat[:, superpop_idx_dicc['EUR']]\n",
    "amr_dac_mat = lct_mcm6_dac_mat[:, superpop_idx_dicc['AMR']]"
   ]
  },
  {
   "cell_type": "markdown",
   "id": "cc0ee5a5",
   "metadata": {},
   "source": [
    "## Segregating Sites ($S$)\n",
    "\n",
    "In the `Data Processing` section we determined how many segrgating sites were observed among all individuals in the TGP.\n",
    "\n",
    "__(1) Compute the number of segregating sites observed in each super-population.__"
   ]
  },
  {
   "cell_type": "code",
   "execution_count": null,
   "id": "32b4bcd4",
   "metadata": {},
   "outputs": [],
   "source": []
  },
  {
   "cell_type": "code",
   "execution_count": null,
   "id": "95d228eb",
   "metadata": {},
   "outputs": [],
   "source": []
  },
  {
   "cell_type": "code",
   "execution_count": null,
   "id": "5ee26d2f",
   "metadata": {},
   "outputs": [],
   "source": []
  },
  {
   "cell_type": "code",
   "execution_count": null,
   "id": "d14fa05d",
   "metadata": {},
   "outputs": [],
   "source": []
  },
  {
   "cell_type": "code",
   "execution_count": null,
   "id": "67aa85dd",
   "metadata": {},
   "outputs": [],
   "source": []
  },
  {
   "cell_type": "code",
   "execution_count": null,
   "id": "b0227f52",
   "metadata": {},
   "outputs": [],
   "source": []
  },
  {
   "cell_type": "markdown",
   "id": "27e1b782",
   "metadata": {},
   "source": [
    "## Gene Diversity ($H$)\n",
    "\n",
    "__(2) Compute the average gene diversity for each super-population.__"
   ]
  },
  {
   "cell_type": "code",
   "execution_count": null,
   "id": "3749dcd2",
   "metadata": {},
   "outputs": [],
   "source": []
  },
  {
   "cell_type": "code",
   "execution_count": null,
   "id": "5015e74d",
   "metadata": {},
   "outputs": [],
   "source": []
  },
  {
   "cell_type": "code",
   "execution_count": null,
   "id": "5aa7daeb",
   "metadata": {},
   "outputs": [],
   "source": []
  },
  {
   "cell_type": "code",
   "execution_count": null,
   "id": "aeec423c",
   "metadata": {},
   "outputs": [],
   "source": []
  },
  {
   "cell_type": "code",
   "execution_count": null,
   "id": "830c5996",
   "metadata": {},
   "outputs": [],
   "source": []
  },
  {
   "cell_type": "code",
   "execution_count": null,
   "id": "0375fce7",
   "metadata": {},
   "outputs": [],
   "source": []
  },
  {
   "cell_type": "markdown",
   "id": "3012649c",
   "metadata": {},
   "source": [
    "## Nucleotide Diversity ($\\pi$)\n",
    "\n",
    "__(3) Compute the average nucleotide diversity—do not normalize by the number of sites—for each super-population.__"
   ]
  },
  {
   "cell_type": "code",
   "execution_count": null,
   "id": "2bd6a800",
   "metadata": {},
   "outputs": [],
   "source": []
  },
  {
   "cell_type": "code",
   "execution_count": null,
   "id": "c2bd1132",
   "metadata": {},
   "outputs": [],
   "source": []
  },
  {
   "cell_type": "code",
   "execution_count": null,
   "id": "2db176f9",
   "metadata": {},
   "outputs": [],
   "source": []
  },
  {
   "cell_type": "code",
   "execution_count": null,
   "id": "03155ce7",
   "metadata": {},
   "outputs": [],
   "source": []
  },
  {
   "cell_type": "code",
   "execution_count": null,
   "id": "3cf1d390",
   "metadata": {},
   "outputs": [],
   "source": []
  },
  {
   "cell_type": "markdown",
   "id": "ee5ba893",
   "metadata": {},
   "source": [
    "## Derived Allele Frequency Spectrum (aka Unfolded SFS)\n",
    "\n",
    "__(4) Compute the derived allele frequency spectrum for each super-population.__"
   ]
  },
  {
   "cell_type": "code",
   "execution_count": null,
   "id": "b2af376e",
   "metadata": {},
   "outputs": [],
   "source": []
  },
  {
   "cell_type": "code",
   "execution_count": null,
   "id": "c52f9934",
   "metadata": {},
   "outputs": [],
   "source": []
  },
  {
   "cell_type": "code",
   "execution_count": null,
   "id": "a5e3759b",
   "metadata": {},
   "outputs": [],
   "source": []
  },
  {
   "cell_type": "code",
   "execution_count": null,
   "id": "4973a40f",
   "metadata": {},
   "outputs": [],
   "source": []
  },
  {
   "cell_type": "code",
   "execution_count": null,
   "id": "67852906",
   "metadata": {},
   "outputs": [],
   "source": []
  },
  {
   "cell_type": "markdown",
   "id": "704a87dd",
   "metadata": {},
   "source": [
    "## Interpretation\n",
    "\n",
    "__(5) Generate a table displaying the number of segregating sites, average gene diversity, and average nucleotide diversity for each super-population__\n",
    "\n",
    "__(6) Plot the derived allele frequency spectrum for each super-population.__\n",
    "\n",
    "__(7) Compare the results for each super-population and intepret your results.__ (Hint: Reflect on our conversations about the assigned reading: 1000 Genomes Project Consortium. \"A global reference for human genetic variation.\" _Nature_ 526.7571 (2015): 68.\n",
    "\n",
    "\n",
    "__Your Interpretation:__"
   ]
  },
  {
   "cell_type": "code",
   "execution_count": null,
   "id": "d04cb5e6",
   "metadata": {},
   "outputs": [],
   "source": []
  },
  {
   "cell_type": "code",
   "execution_count": null,
   "id": "50c4cd13",
   "metadata": {},
   "outputs": [],
   "source": []
  },
  {
   "cell_type": "code",
   "execution_count": null,
   "id": "0b36e546",
   "metadata": {},
   "outputs": [],
   "source": []
  },
  {
   "cell_type": "code",
   "execution_count": null,
   "id": "8f6aaadb",
   "metadata": {},
   "outputs": [],
   "source": []
  },
  {
   "cell_type": "code",
   "execution_count": null,
   "id": "90d6dd31",
   "metadata": {},
   "outputs": [],
   "source": []
  }
 ],
 "metadata": {
  "kernelspec": {
   "display_name": "Python 3",
   "language": "python",
   "name": "python3"
  },
  "language_info": {
   "codemirror_mode": {
    "name": "ipython",
    "version": 3
   },
   "file_extension": ".py",
   "mimetype": "text/x-python",
   "name": "python",
   "nbconvert_exporter": "python",
   "pygments_lexer": "ipython3",
   "version": "3.8.12"
  }
 },
 "nbformat": 4,
 "nbformat_minor": 5
}
