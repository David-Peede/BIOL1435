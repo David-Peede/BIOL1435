{
 "cells": [
  {
   "cell_type": "markdown",
   "id": "11068829-c28c-40fd-9dd0-2be629daeb3a",
   "metadata": {},
   "source": [
    "# `NumPy` Puzzles\n",
    "This notebook is less of a tutorial and more of a cook-book/reference of `NumPy` puzzles that myself or friends have run into!"
   ]
  },
  {
   "cell_type": "code",
   "execution_count": 1,
   "id": "4af09245-f5c3-4374-a7c5-ec12a8231e12",
   "metadata": {},
   "outputs": [],
   "source": [
    "# Import the necessary packages.\n",
    "import numpy as np"
   ]
  },
  {
   "cell_type": "markdown",
   "id": "e6870cc2-fe4a-44d3-a993-f74ccc0c0de5",
   "metadata": {},
   "source": [
    "## Polarizing A Haplotype Matrix\n",
    "Here I have 2D matrix of shape (variants, samples), and I want to polarize the entire matrix using a 1D ancestral sequence array. First, I need to intialize a toy data set consiting of 5 samples over 3 sites."
   ]
  },
  {
   "cell_type": "code",
   "execution_count": 2,
   "id": "af4f012a-399a-43ad-aa81-cfeb5ffb1306",
   "metadata": {},
   "outputs": [
    {
     "name": "stdout",
     "output_type": "stream",
     "text": [
      "ancestral sequence:  [0 1 1]\n",
      "unpolarized haplotype matrix: \n",
      " [[0. 0. 0. 0. 0.]\n",
      " [0. 0. 0. 0. 0.]\n",
      " [1. 1. 1. 1. 1.]]\n"
     ]
    }
   ],
   "source": [
    "# Intialize the ancestral sequence.\n",
    "anc_seq = np.array([0, 1, 1])\n",
    "print('ancestral sequence: ', anc_seq)\n",
    "# Intialize the haplotype matrix. \n",
    "hap_mat = np.empty((3, 5))\n",
    "site_1 = np.zeros(5)\n",
    "site_2 = np.zeros(5)\n",
    "site_3 = np.ones(5)\n",
    "hap_mat[0, :] = site_1\n",
    "hap_mat[1, :] = site_2\n",
    "hap_mat[2, :] = site_3\n",
    "print('unpolarized haplotype matrix: '+'\\n', hap_mat)"
   ]
  },
  {
   "cell_type": "markdown",
   "id": "91ffe4d7-0214-4743-a876-3e790158ef40",
   "metadata": {},
   "source": [
    "Next, I need to define a function that polarizes a haplotype matrix given an ancestral sequence."
   ]
  },
  {
   "cell_type": "code",
   "execution_count": 3,
   "id": "e6fb186f-cf14-4451-ba3e-055d0b544068",
   "metadata": {},
   "outputs": [],
   "source": [
    "def polarize_haplotype_matrix(haplotype_matrix, ancestral_states):\n",
    "    \"\"\"\n",
    "    ###########################################################################\n",
    "    INPUT\n",
    "        haplotype_matrix: 2D matrix of shape (n_sites, n_haplotypes).\n",
    "        ancestral_states: 1D array of ancestral states to polarize from.\n",
    "    ---------------------------------------------------------------------------\n",
    "    OUTPUT: Polarized haplotype matrix\n",
    "    ###########################################################################\n",
    "    \"\"\"\n",
    "    # Intialize an empty haplotype matrix.\n",
    "    polarized_haplotype_matrix = np.empty_like(haplotype_matrix)\n",
    "    # For all haplotypes...\n",
    "    for sample in range(haplotype_matrix.shape[1]):\n",
    "        # Extract the sample's haplotype.\n",
    "        haplotype = haplotype_matrix[:, sample]\n",
    "        # Polarize the sample's haplotype.\n",
    "        polarized_haplotype_matrix[:, sample] = np.where(ancestral_states == 1, np.abs(haplotype - 1), haplotype)\n",
    "    return polarized_haplotype_matrix"
   ]
  },
  {
   "cell_type": "markdown",
   "id": "57f6e0fd-341d-4b8e-88c8-f358369c3b90",
   "metadata": {},
   "source": [
    "Now, we test the function!"
   ]
  },
  {
   "cell_type": "code",
   "execution_count": 4,
   "id": "a56c0dfe-4d9e-4575-8933-6613e0a9209a",
   "metadata": {},
   "outputs": [
    {
     "name": "stdout",
     "output_type": "stream",
     "text": [
      "ancestral sequence:  [0 1 1]\n",
      "unpolarized haplotype matrix: \n",
      " [[0. 0. 0. 0. 0.]\n",
      " [0. 0. 0. 0. 0.]\n",
      " [1. 1. 1. 1. 1.]]\n",
      "polarized haplotype matrix: \n",
      " [[0. 0. 0. 0. 0.]\n",
      " [1. 1. 1. 1. 1.]\n",
      " [0. 0. 0. 0. 0.]]\n"
     ]
    }
   ],
   "source": [
    "# Polarize the haplotype matrix.\n",
    "polarized_hap_mat = polarize_haplotype_matrix(hap_mat, anc_seq)\n",
    "print('ancestral sequence: ', anc_seq)\n",
    "print('unpolarized haplotype matrix: '+'\\n', hap_mat)\n",
    "print('polarized haplotype matrix: '+'\\n', polarized_hap_mat)"
   ]
  },
  {
   "cell_type": "code",
   "execution_count": null,
   "id": "813b17dd-1698-4f27-9c6b-f9972ca578f8",
   "metadata": {},
   "outputs": [],
   "source": []
  }
 ],
 "metadata": {
  "kernelspec": {
   "display_name": "Python 3 (ipykernel)",
   "language": "python",
   "name": "python3"
  },
  "language_info": {
   "codemirror_mode": {
    "name": "ipython",
    "version": 3
   },
   "file_extension": ".py",
   "mimetype": "text/x-python",
   "name": "python",
   "nbconvert_exporter": "python",
   "pygments_lexer": "ipython3",
   "version": "3.9.15"
  }
 },
 "nbformat": 4,
 "nbformat_minor": 5
}
